{
 "cells": [
  {
   "cell_type": "code",
   "execution_count": 1,
   "metadata": {},
   "outputs": [],
   "source": [
    "from selenium import webdriver\n",
    "from selenium.webdriver.chrome.service import Service\n",
    "from selenium.webdriver.common.by import By\n",
    "from selenium.webdriver.chrome.options import Options\n",
    "from selenium.webdriver.support.ui import Select\n",
    "from webdriver_manager.chrome import ChromeDriverManager\n",
    "import time\n",
    "import numpy as np\n",
    "import pandas as pd"
   ]
  },
  {
   "cell_type": "code",
   "execution_count": 2,
   "metadata": {},
   "outputs": [],
   "source": [
    "\n",
    "def get_data(driver: webdriver.Chrome, target_data: dict) -> str:\n",
    "    \n",
    "\n",
    "    isnew_selector = Select(driver.find_element(By.ID, \"isnew\"))\n",
    "    co_id_field = driver.find_element(By.ID, \"co_id\")\n",
    "    year_field = driver.find_element(By.ID, \"year\")\n",
    "\n",
    "    isnew_selector.select_by_value(target_data['isnew'])\n",
    "    co_id_field.send_keys(target_data[\"co_id\"])\n",
    "    year_field.send_keys(target_data[\"year\"])\n",
    "\n",
    "    \n",
    "\n",
    "    submit_button = driver.find_element(By.XPATH, \"//input[@value=' 查詢 ']\")\n",
    "    submit_button.click()\n",
    "    \n",
    "    co_id_field.clear()\n",
    "    year_field.clear()\n",
    "    return driver.page_source\n",
    "\n",
    "\n",
    "def web_interact(co_ids: list, year_start=110, year_end=112):\n",
    "    url = \"https://mops.twse.com.tw/mops/web/t163sb15\"\n",
    "\n",
    "    chrome_options = Options()\n",
    "    chrome_options.add_argument(\"--headless\")  # 啟用無頭模式\n",
    "    chrome_options.add_argument(\"--window-size=1920,1080\")  # 設置窗口大小，避免某些元素無法加載\n",
    "\n",
    "    # 初始化 WebDriver\n",
    "    driver = webdriver.Chrome(\n",
    "        service=Service(ChromeDriverManager().install()),\n",
    "        options=chrome_options\n",
    "    )\n",
    "\n",
    "    # 加載網站\n",
    "    driver.get(url)\n",
    "    driver.implicitly_wait(10)\n",
    "\n",
    "    all_company_page_src = {}\n",
    "\n",
    "\n",
    "    for co_id in co_ids:\n",
    "        page_sources = []\n",
    "\n",
    "        for year in range(year_start, year_end + 1):\n",
    "            target_data = {\n",
    "                \"isnew\" : \"false\",\n",
    "                \"co_id\" : co_id,\n",
    "                \"year\" : year\n",
    "            }\n",
    "            get_data(driver, target_data)\n",
    "            time.sleep(3)\n",
    "            print(year)\n",
    "            page_sources.append(get_table_data(driver))\n",
    "\n",
    "        all_company_page_src[co_id] = page_sources\n",
    "\n",
    "    driver.quit()\n",
    "\n",
    "\n",
    "    return all_company_page_src\n",
    "\n",
    "\n",
    "def get_table_data(driver):\n",
    "    table = driver.find_element(By.CLASS_NAME, \"hasBorder\")\n",
    "    rows = table.find_elements(By.TAG_NAME, \"tr\")\n",
    "\n",
    "    #提取表格數據\n",
    "    data = {}\n",
    "    for i in range(1, len(rows)):\n",
    "        row = rows[i]\n",
    "        try:\n",
    "            cells = row.find_elements(By.TAG_NAME, \"td\")\n",
    "            head = row.find_element(By.TAG_NAME, \"th\").text\n",
    "            data[head] = [cell_data_type_change(cell.text) for cell in cells]\n",
    "        except Exception as e:\n",
    "            print(e)\n",
    "    return pd.DataFrame(data)\n",
    "\n",
    "\n",
    "def cell_data_type_change(cell_text):\n",
    "    if cell_text == '-':\n",
    "        return np.nan\n",
    "    else:\n",
    "        return float(str(cell_text).replace(',', ''))\n"
   ]
  },
  {
   "cell_type": "code",
   "execution_count": null,
   "metadata": {},
   "outputs": [
    {
     "name": "stdout",
     "output_type": "stream",
     "text": [
      "102\n",
      "103\n",
      "104\n",
      "105\n",
      "106\n",
      "107\n",
      "108\n",
      "109\n",
      "110\n",
      "111\n",
      "112\n",
      "113\n"
     ]
    }
   ],
   "source": [
    "year_start = 102\n",
    "year_end = 113\n",
    "test_data = web_interact([2330], year_start=year_start, year_end=year_end)"
   ]
  },
  {
   "cell_type": "code",
   "execution_count": 27,
   "metadata": {},
   "outputs": [],
   "source": [
    "\n",
    "for i in range(len(test_data[2330])):\n",
    "    td = test_data[2330][i]\n",
    "    td.to_csv(f'./{i + year_start}.csv', index=False)\n"
   ]
  },
  {
   "cell_type": "code",
   "execution_count": null,
   "metadata": {},
   "outputs": [],
   "source": []
  }
 ],
 "metadata": {
  "kernelspec": {
   "display_name": "AI",
   "language": "python",
   "name": "python3"
  },
  "language_info": {
   "codemirror_mode": {
    "name": "ipython",
    "version": 3
   },
   "file_extension": ".py",
   "mimetype": "text/x-python",
   "name": "python",
   "nbconvert_exporter": "python",
   "pygments_lexer": "ipython3",
   "version": "3.9.16"
  }
 },
 "nbformat": 4,
 "nbformat_minor": 2
}
